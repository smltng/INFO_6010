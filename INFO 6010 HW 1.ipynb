{
 "metadata": {
  "name": "",
  "signature": "sha256:cc962252f3633f9c2c4fe0196900ffb1fe129b86a3fd254c14807c4f19d7e616"
 },
 "nbformat": 3,
 "nbformat_minor": 0,
 "worksheets": [
  {
   "cells": [
    {
     "cell_type": "heading",
     "level": 1,
     "metadata": {},
     "source": [
      "A Random Text Generator"
     ]
    },
    {
     "cell_type": "heading",
     "level": 2,
     "metadata": {},
     "source": [
      "The Music Industry As We Know It"
     ]
    },
    {
     "cell_type": "code",
     "collapsed": false,
     "input": [
      "from IPython.display import YouTubeVideo\n",
      "YouTubeVideo('5pidokakU4I')"
     ],
     "language": "python",
     "metadata": {},
     "outputs": [
      {
       "html": [
        "\n",
        "        <iframe\n",
        "            width=\"400\"\n",
        "            height=300\"\n",
        "            src=\"https://www.youtube.com/embed/5pidokakU4I\"\n",
        "            frameborder=\"0\"\n",
        "            allowfullscreen\n",
        "        ></iframe>\n",
        "        "
       ],
       "metadata": {},
       "output_type": "pyout",
       "prompt_number": 1,
       "text": [
        "<IPython.lib.display.YouTubeVideo at 0x371f240>"
       ]
      }
     ],
     "prompt_number": 1
    },
    {
     "cell_type": "markdown",
     "metadata": {},
     "source": [
      "As many of us are probably already aware, there is a surprisingly simple \"secret\" to figuring out the chords for a popular song. Namely, there are four chords that comprise countless songs in pop music, as shown in the YouTube link above. Creating a tune, however, is only half the battle. Lyrics, some might argue, are just as important as the notes in songs. Considering the diversity of song lyrics, it might be harder to find trends, as one would have to look for similarities on a semantic basis. As an alternative, I took the lyrics from the ten most popular songs on the Billboard Hot 100 for 2014 and attempted to randomly generate lyrics from those."
     ]
    },
    {
     "cell_type": "heading",
     "level": 2,
     "metadata": {},
     "source": [
      "The Data"
     ]
    },
    {
     "cell_type": "markdown",
     "metadata": {},
     "source": [
      "Of course, we'll begin by importing NLTK and other requirements and all the lyrics in a manner that's formatted nicely for ease of use.\n",
      "\n",
      "In case anyone was curious about the list that I'm using, <a i=\"http://www.billboard.com/charts/year-end/2014/hot-100-songs\">it can be found here.</a> \n",
      "\n",
      "1. Happy\n",
      "2. Dark Horse\n",
      "3. All Of Me\n",
      "4. Fancy\n",
      "5. Counting Stars\n",
      "6. Talk Dirty\n",
      "7. Rude\n",
      "8. All About That Bass\n",
      "9. Problem\n",
      "10. Stay With Me"
     ]
    },
    {
     "cell_type": "code",
     "collapsed": false,
     "input": [
      "import nltk\n",
      "import random\n",
      "import numpy\n",
      "import math"
     ],
     "language": "python",
     "metadata": {},
     "outputs": [],
     "prompt_number": 2
    },
    {
     "cell_type": "code",
     "collapsed": false,
     "input": [
      "#grab the top ten songs from Billboard hot 100 in 2014\n",
      "\n",
      "with open('ALL_ABOUT_THAT_BASS.txt','r') as f:\n",
      "    all_about_that_bass = f.read()\n",
      "with open('ALL_OF_ME.txt','r') as f:\n",
      "    all_of_me = f.read()\n",
      "with open('COUNTING_STARS.txt','r') as f:\n",
      "    counting_stars = f.read()\n",
      "with open('DARK_HORSE.txt','r') as f:\n",
      "    dark_horse = f.read()\n",
      "with open('FANCY.txt','r') as f:\n",
      "    fancy = f.read()\n",
      "with open('HAPPY.txt','r') as f:\n",
      "    happy = f.read()\n",
      "with open('PROBLEM.txt','r') as f:\n",
      "    problem = f.read()\n",
      "with open('RUDE.txt','r') as f:\n",
      "    rude = f.read()\n",
      "with open('STAY_WITH_ME.txt','r') as f:\n",
      "    stay_with_me = f.read()\n",
      "with open('TALK_DIRTY.txt','r') as f:\n",
      "    talk_dirty = f.read()\n",
      "    "
     ],
     "language": "python",
     "metadata": {},
     "outputs": [],
     "prompt_number": 3
    },
    {
     "cell_type": "code",
     "collapsed": false,
     "input": [
      "#We want a list of each word in order so NLTK can work its magic, so we use the always-handy list comprehension.\n",
      "aatb = [words for words in all_about_that_bass.split()]\n",
      "aom = [words for words in all_of_me.split()]\n",
      "cs = [words for words in counting_stars.split()]\n",
      "dh = [words for words in dark_horse.split()]\n",
      "f = [words for words in fancy.split()]\n",
      "h = [words for words in happy.split()]\n",
      "p = [words for words in problem.split()]\n",
      "r = [words for words in rude.split()]\n",
      "swm = [words for words in stay_with_me.split()]\n",
      "td = [words for words in talk_dirty.split()]\n"
     ],
     "language": "python",
     "metadata": {},
     "outputs": [],
     "prompt_number": 4
    },
    {
     "cell_type": "heading",
     "level": 2,
     "metadata": {},
     "source": [
      "The Model"
     ]
    },
    {
     "cell_type": "markdown",
     "metadata": {},
     "source": [
      "Our next goal is to write the generator. NLTK 3.0 doesn't have a working generator, unfortunately, so it looks like I'll have to do this by hand. There was an example in chapter 2 of the NTLK book, but following that code blindly will result in an infinite loop because of the way it only checks for the word with the highest probability and uses that as the next word. For example, \"'Bout that base 'Bout that base 'Bout that base...\" will repeat since \"base\" is most likely to be followed by \"'Bout\". While not as accurate, randomly picking a word that follows will help to avoid this trend. A more accurate way of accomplishing this would be to use the probabilities of each word rather than using random.choice(), which pretty much makes all the possible words have an equal probability of occurring next..."
     ]
    },
    {
     "cell_type": "code",
     "collapsed": false,
     "input": [
      "#Adapted from NLTK book, chapter 2 on generating random text with bigrams\n",
      "def generate_model(cfdist, word, num=50):\n",
      "    song = \"\"\n",
      "    for i in range(num):\n",
      "        song+= word.replace(\"\\\\\",\"\") + \" \"\n",
      "        word = random.choice(cfdist[word].keys())\n",
      "    song+=\".\"\n",
      "    return song\n",
      "        \n",
      "bigrams = nltk.bigrams(aatb+aom+cs+dh+f+h+p+r+swm+td)\n",
      "cfd = nltk.ConditionalFreqDist(bigrams)"
     ],
     "language": "python",
     "metadata": {},
     "outputs": [],
     "prompt_number": 20
    },
    {
     "cell_type": "heading",
     "level": 2,
     "metadata": {},
     "source": [
      "Results"
     ]
    },
    {
     "cell_type": "markdown",
     "metadata": {},
     "source": [
      "Before complicating this procedure slightly, it's always good to check and see how our code is doing."
     ]
    },
    {
     "cell_type": "code",
     "collapsed": false,
     "input": [
      "generate_model(cfd,'Because')"
     ],
     "language": "python",
     "metadata": {},
     "outputs": [
      {
       "metadata": {},
       "output_type": "pyout",
       "prompt_number": 52,
       "text": [
        "\"Because I'm gonna wake up in the realest (realest) Drop this jam, show 'em what you're sayin' that you're fat But your hand now Is probably for Baby do {Hey C'mon} Baby, even though I die Tough luck, my life? Say yes, say you Love me Jason Jason Jason Derulo .\""
       ]
      }
     ],
     "prompt_number": 52
    },
    {
     "cell_type": "markdown",
     "metadata": {},
     "source": [
      "----------------------------------------------------------------"
     ]
    },
    {
     "cell_type": "markdown",
     "metadata": {},
     "source": [
      "This isn't too bad so far, but we're plugging \"Because\" straight in. A more \"authentic\" way of doing this would be to make it so that our first word can vary. For a little more authenticity, we can change the song length to vary according to the lengths of the ten songs we're sampling."
     ]
    },
    {
     "cell_type": "code",
     "collapsed": false,
     "input": [
      "starting_words = ['Because','What','Lately', 'Jason', 'Guess', 'Saturday','Baby','It','Listen','I']"
     ],
     "language": "python",
     "metadata": {},
     "outputs": [],
     "prompt_number": 21
    },
    {
     "cell_type": "code",
     "collapsed": false,
     "input": [
      "counts = [len(aatb),len(aom),len(cs),len(dh),len(f),len(h),len(p),len(r),len(swm),len(td)]\n",
      "std_dev = numpy.std(counts)\n",
      "mean = numpy.mean(counts)\n",
      "\n",
      "def generate_song():\n",
      "    up_or_down = 1 if random.random()>.5 else -1\n",
      "    return generate_model(cfd,random.choice(starting_words),int(math.floor((mean+up_or_down*std_dev*random.random())+.5)))"
     ],
     "language": "python",
     "metadata": {},
     "outputs": [],
     "prompt_number": 22
    },
    {
     "cell_type": "code",
     "collapsed": false,
     "input": [
      "generate_song()"
     ],
     "language": "python",
     "metadata": {},
     "outputs": [
      {
       "metadata": {},
       "output_type": "pyout",
       "prompt_number": 23,
       "text": [
        "\"Lately I've been working, I'm so much that they speak the realest (realest) Drop this river the language But I'm so dope I ain't around through every day I'm just playing. I still need explaining All the rest of my shoulders I so wrong By doing the hotel Let's get drunk on your blessing 'til the best thing now Is probably for you like we don't care She got that No, I'm a bird without ya I give me Loves all to hold at that could clutch that Photoshop We know I shouldn't ever call her heart was on me-o Tres, we bringin' '88 back (what) Bring me makes me Loves all the line In no maybe So don't hold at a fair Her love that flight that I've got 99 problems But baby by the bedroom into then go anywhere I want, London to see the magazine workin' that drowns me so dope I just doing the love When you got, and that, who that, I-G-G-Y That fairy tale ending with a hot air balloon that beautiful too The world asking how I wanna play with a coma Woo! Damn I bought her saved in Rio Dos, she was tryna hit it What? I gotta have your hand now baby by the liquor straight, never gonna marry her She got One less problem Head in my rhythm and raced like I'm winning Cause even though I ain't no kidding, I so much that altar Or let you Even when you're fat But you give a bird Like Jeffrey Dahmer Be careful Try not to this and I really, really need love is the bass Because you In my phone call back Go Uh} Bring me out Like what what?) Never turn down What's going back Mark my best suit Got no stick figure silicone Barbie doll So get my wrist) Takin' all of Ace, cup of Ace, cup of you break her If you better keep her love me And say Sunshine she's here, you dare to genius Sold out You sayin' that Photoshop We know But your presence And realize that Just the wrong By doing what we're told me I'll never seem crazy and you know the best thing now baby by it but 'No' Why can't forgive ya I lose I'm that all I don't care She turn cold as a question 'Cause once you're never works But your door with some self-control And even though it's true, I'm all your time you meet her in the bottom to lead her She swears by the phone call back Go Uh} Bring me down, I'm bringing booty don't be forgettin' all the gun like that's what what?) Never turn cold as a pet Anyway, every turn Hope is to hold it but I'm here to you, oh Cards on your daughter for you get .\""
       ]
      }
     ],
     "prompt_number": 23
    },
    {
     "cell_type": "code",
     "collapsed": false,
     "input": [
      "generate_song()"
     ],
     "language": "python",
     "metadata": {},
     "outputs": [
      {
       "metadata": {},
       "output_type": "pyout",
       "prompt_number": 29,
       "text": [
        "\"Baby do this and raced like I'm out Like a jet All I want, yeah Keep on Shawty's heart She swears by it burn) (Sink in the things first, I'm thinkin' I really, really want to plan I give up Chandelier swinging, we will be wiser And swear I bought her a room without her on deck Chest to go Let you down, I'm in all of Goose, cup of your size She can be forgettin' all I need explaining All I don't worry 'bout that they not to do this, I see But lil' mama she told I, feel the mini bar Make me Loves all your enemy, your curves and got 99 problems But I'm listening to go anywhere I think I go Can I learned my mama so much that they not to lead her Shawty so good, he's just doing what the table, we're told me baby boo So if they not money, decline I was all on in the lessons in a perfect storm 'Cause I want, London to go ahead and I meant that there so Rude Rude Rude Can I want, London to blow Who that, do 'Cause all on me-o Tres, we will be that bass at? Champagne spillin', you In no matter what we're both showing hearts Risking it stop singing, it's hard Said no weight on steroids 'Cause you're my mama she was on time, if you should know I still need a coma Woo! Damn I feel something so much that I'm out of bed And all though Quatro, ooh (2 Chainz!) Dos Cadenas, close to throw I'm sprung and tell ya I die Tough luck, my name in bold I does that bass, no haters, gotta have to walk away, don't think I think you're never chase that Got the world is I can't believe what do this Can't live without ya Every time you meet her saved in love with magic Boy, you go ahead and quit it You should .\""
       ]
      }
     ],
     "prompt_number": 29
    },
    {
     "cell_type": "code",
     "collapsed": false,
     "input": [
      "generate_song()"
     ],
     "language": "python",
     "metadata": {},
     "outputs": [
      {
       "metadata": {},
       "output_type": "pyout",
       "prompt_number": 25,
       "text": [
        "\"It might seem crazy and quit it doesn't hurt Oh, won't be so dope I bet you gotta give up I was on my car and I know I thought of Goose, cup of you, oh How many times do Because I'm supposed to I could go anywhere I can be just playin' I'm givin' lessons in the chance you just like that's what do Because you touch me your booty back (what) Bring me Get jazzy on neck International oral sex Every time you say yes 'cause I should taste that Got no size two But darling, stay with me Loves all you break her saved in the world asking how I really, really doubt you were gonna wake up I learned) I hate ya I pose a ticket on your size two But I'm human too? Why am I meant that paper over all, I can't believe what you're mine, once you're never seem crazy and I'm here you you) Talk dirty to space With the way to me, give me So you leave no more booty don't care baby It's a swinging vine Swing my passport, You got my Sleeping Beauty I'm listening to tell them need, New York to leave, will go Let you got? Smart money bettin' I'll give that No, it's pretty clear, I die Tough luck, my heart in that they not money, decline I take, I get my car and don't know I'm on deck Chest to exit I get on, international First class seat on your one Been around you better off without ya I die Tough luck, my head spinning, no maybe So get my lesson No habla ingl\\xe9s Our conversations ain't no matter what is perfect from the clouds Got no weight on time, if you Knocked on deck Chest to me down... my grind Now tell ya Every picture I was so rude? I'm thinkin' I still means 'No'! Why am I really, really .\""
       ]
      }
     ],
     "prompt_number": 25
    },
    {
     "cell_type": "markdown",
     "metadata": {},
     "source": [
      "--------------------------------------------------------------\n",
      "\n",
      "I think the main takeaway is that it's more difficult to write lyrics than it is to come up with a tune. While we have seemingly perfected the four chords that play in seemingly way too many songs, coming up with a coherent message to go along with the song does not seem nearly as simple. As much as I'd like to say that you can just call generate_song() and come up with a hit song instantly, it doesn't quite work that way. Granted, there are parts of these generated texts that sound like they could be straight out of some edgy song, like \"Boy, you go ahead and quit it You should\", but really, not enough of the lyrics make sense to warrant using any of these examples as a song. Perhaps with more tweaking, something more coherent may be a possibility..."
     ]
    },
    {
     "cell_type": "code",
     "collapsed": false,
     "input": [],
     "language": "python",
     "metadata": {},
     "outputs": []
    }
   ],
   "metadata": {}
  }
 ]
}